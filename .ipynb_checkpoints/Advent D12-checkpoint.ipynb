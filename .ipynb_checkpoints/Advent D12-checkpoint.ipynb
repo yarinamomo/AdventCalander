{
 "cells": [
  {
   "cell_type": "markdown",
   "id": "22f06383",
   "metadata": {},
   "source": [
    "### Jul AdventKalender D12\n",
    "\n",
    "https://adventofcode.com/2022/day/12"
   ]
  },
  {
   "cell_type": "code",
   "execution_count": 1,
   "id": "c62cf960",
   "metadata": {},
   "outputs": [],
   "source": [
    "import pandas as pd\n",
    "import numpy as np"
   ]
  },
  {
   "cell_type": "markdown",
   "id": "8e30a121",
   "metadata": {},
   "source": [
    "#### Day 12.1 \n",
    "\n",
    "Hill Climbing Algorithm\n",
    "\n",
    "Given a heightmap with letters. \n",
    "\n",
    "* The elevation is given by a single lowercase letter: a-z is the lowest to the highest.\n",
    "* Other marks: **current** position (S) which has elevation a, the **destination** with the best signal (E) has elevation z.\n",
    "\n",
    "The elevation of the next location can be at most **one** higher than the current location: a can go to b but not c.\n",
    "\n",
    "What is the fewest steps required to move from S to E?"
   ]
  },
  {
   "cell_type": "code",
   "execution_count": 89,
   "id": "ac49b4ac",
   "metadata": {
    "scrolled": true
   },
   "outputs": [
    {
     "data": {
      "text/plain": [
       "['abccccccaaccaaccccaaaaacccccaaaaccccccccccccccccccccccccccccccccaaaaaaaaaaaaaaaaaaaccccccccccccccccaaaccccccccccccaacccccccccccccccccccccccccccccccccccccccccaaaa',\n",
       " 'abaaaaccaaaaaccccaaaaaccccccaaaaccccccccccccccccccccaaacccccccccccaaaaaaaaaaaaaaaaaaccccccccccccccccaaaaccccccaaacaaccccccccccccccccccccccccccccccccccccccccaaaaa',\n",
       " 'abaaacccaaaaaaaacaaaaaacccccaaaaccccccccccccccccccccaaaaacccccccccaaaaaaaaaaaaaaaaacccccccccaaccccaaaaaacccccccaaaaaccccaaccccccccccccccacccccccccccccccccccaaaaa',\n",
       " 'abaaacccccaaaaaccccaaaaccccccaaacccccccccccccccccccaaaaaccccccccccaaaaaacacaaaaaacccccccccccaaccccaaaaacccccccccaaaaaaccaaaaaaccccccccccaaaccccacccccccccccaaaaaa',\n",
       " 'abaacccccaaaaaccccaacccccccccccccccaaaaacccccccccccaaaaacccccccccaaaaaaaaccaaaaaaacccccccaaaaaaaaccaaaaacccccccaaaaaaaccaaaaacccccccccccaaacccaaaccccccccccccccaa',\n",
       " 'abaaacccaaacaacccccccccccccccccccccaaaaaccccccccccccaaaaacccccccaaaaaaaaaccaaccaaacccccccaaaaaaaaccaacccccccccaaaaaaccaaaaaaccccccccccccaaaacaaaaccccccccccccccaa',\n",
       " 'abaaacccccccaaccccccccccccccccccccaaaaaaccccccccccccaaccccccaacccaaaccaaaaccccccaacccccccccaaaacccccccccccccccaacaaaccaaaaaaaccccccccccccajjjjjjjcccccccccccccccc',\n",
       " 'abcaacccccccccccccccccccccccccccccaaaaaaccccccccccccccccccccaaaaccccccaaaaccccccccccccccaacaaaaaccccccccccccccccccaaccccaaaaaacccccccccccjjjjjjjjjcccccaaaccccccc',\n",
       " 'abccccccccccccccccccccccccccccccccaaaaaaccaaccccccccccccccaaaaaacccccccaaacccccccccccaacaaaaaaaaccccccccccccccccccccccccaaccaaccccccccaiijjjjojjjjcccccaaacaccccc',\n",
       " 'abcccccccccccccccccccccccaaacccccccaaacacaaacccccccccccccccaaaaccccaaccccccccccccccccaaaaaaacccaccccccccccccccccccccccccaacccccccccccaiiijjooooojjkccaaaaaaaacccc',\n",
       " 'abccccccccccccccccccccccaaaaccccccccccaaaaaccccccccccccccccaaaaacccaaaaaccccccccccccccaaaaaacccccccccccccccccccccccccccccccccccccciiiiiiiioooooookkkcaaaaaaaacccc',\n",
       " 'abccccccccccccccccccccccaaaaccccccccccaaaaaaaacccccccccccccaacaaccaaaaacccccccaaacccaaaaaaaaccccccccccccccccccccccccccccccccccchiiiiiiiiooooouoookkkccaaaaaaccccc',\n",
       " 'abcccccccccaaccccccccccccaaaccccccccccccaaaaacccccccccccccccccccccaaaaaccccccaaaacccaaaaacaacccccccccccccaacaacccccccccccccccchhhiiiinnnooouuuuoookkkccaaaaaccccc',\n",
       " 'abcccccccccaaacccccccccccccccccccccccccaaaaacccccccccccccccccccccccaaaaacccccaaaaccccccaaccccccccccccccccaaaaacccccccccccccccchhhnnnnnnnnouuuuuuppkkkkaaaaaaccccc',\n",
       " 'abccccccaaaaaaaacccaaccccccccccccccccccaacaaccaacaaccccccccccccccccaacccccccccaaaccccccaacccccccccccccccaaaaacccccccccccccccchhhnnnnnnnnntuuxuuupppkkkkkacccccccc',\n",
       " 'abccccccaaaaaaaacacaaaacccccccccccccccccccaaccaaaaacccccccccccccccccccccccccccccccccccccccccccccccccccccaaaaaacccccccaacccccchhhnnnnttttttuxxxuuppppkkkkkcccccccc',\n",
       " 'abcccccccaaaaaaccaaaaaaccccccccccaaccccccccccaaaaaccccccccccccccccccccccccaaacccccccccccccccccccccccccccccaaaaccaaccaaacccaaahhhnnntttttttuxxxxuupppppllllccccccc',\n",
       " 'abcccccccaaaaaacccaaaacccccccccaaaaaaccccccccaaaaaacccccccccccccccccccccccaaacccccccccccccccccccccccccccccacccccaaaaaaacaaaaahhhppntttxxxxxxxxuuuuvpppplllccccccc',\n",
       " 'abcccccccaaaaaacccaaaacccccccccaaaaaacccccaaaaaaaaaccccccccccccccccccccaaaaaaaacccccccccccccccccccccaaaccccccaacaaaaaaccaaaaahhhpppttxxxxxxxxyuuvvvvvppplllcccccc',\n",
       " 'abcccccccaaccaacccaacaccaaaaccccaaaaacccccaaaaaaaaaccccccccccccccccccccaaaaaaaacccccccccccccccccccccaaacaaaaaaaccaaaaaaaaaaaaahhppptttxxxxxxyyyyyyvvvppplllcccccc',\n",
       " 'SbccccccccccccccccccccccaaaacccaaaaacccccccaaaaaaaaacaaaccccccccaacccccccaaaaaccccccccaaaaacccccccccaaaaaaaaaaaaaaaaaaaaaaaaacgggpppttxxxxEzzyyyyyvvvqqqlllcccccc',\n",
       " 'abccccccccccccccccccccccaaaacccaaaaacccccccaaaaaaaaccaaaccccccccaaacaaccaaaaaaccccccccaaaaacccccccaaaaaaaaaaaaaaaaaaaaaaaaaaacgggpppsssxxxyyyyyyvvvvvqqlllccccccc',\n",
       " 'abcccaaaccccccccccccccccaaaccccccccccccccccaaaaaaaaaaaaaccccccccaaaaaaccaaaaaacccccccaaaaaacccaaaccaaaaaccaaaaaaaaaaaacccccccccgggppssswwyyyyyyvvvvqqqqlllccccccc',\n",
       " 'abcaaaaaccccccccccccccccccccccccccccccccccaaaaaaaaaaaaacccccccaaaaaaacccaccaaacccccccaaaaaacccaaacccaaaaaaaaaaaccccaaacccaaaaacgggppsswwwyyyyyyvvqqqqqlllcccccccc',\n",
       " 'abcaaaaaaccccccccccccccccccccccccccccccccccaaccaaaaaaaaaaaccccaaaaaaacccccccccccccccccaaaaacccaaacaaaacaaaaaaaaccccaaacccaaaaacggpppsswwwywwyyyvvqqqmmmlccccccccc',\n",
       " 'abcaaaaaacccccccaacaaccccccccccccccccccccccccccaaaaaaaaaaaccccccaaaaacccccccccccccccccaaaccaaaaaaaaaaacccccccaacccccccccaaaaaacggpppsswwwwwwwwyvvqqqmmmcccccccccc',\n",
       " 'abcaaaaaccccccccaaaaaccccccccccccccccccccccccccccaaaaaaaacccccccaacaaacccccccccccccccccccccaaaaaaaaaccccccccccccccccccccaaaaaagggoossswwwwrrwwwvvqqmmmccccccccccc',\n",
       " 'abcaaaaacccccccaaaaaccccccccccccccccccccccccccccaaaaaaacccccccccaaccccccccccccccccccccccccccaaaaaaacccccccccccaaaccccccccaaaaagggooosssssrrrrwwwvqqmmmcccaacccccc',\n",
       " 'abcccccccccccccaaaaaaccccccccccccccccccccaacccccccccaaaccccccccccccccccccccccccccccccccccccccaaaaaaccccccccccccaaaaccccccaaaccgggooosssssrrrrrwwrrqmmmcccaacccccc',\n",
       " 'abcccccccccccccccaaaacccccccccccccccccccaaaacccccccacaaacccccccccccccccccccccccccccccccccccccaaaaaaacccccccccaaaaaacccccccccccgffoooooosoonrrrrrrrrmmmccaaaaacccc',\n",
       " 'abcccccccccccccccaccccccccccccccccccccccaaaacccccccaaaaacccccccccccccccccccccccccccccccccccccaaacaaacccccccccaaaaacccccccccccccfffoooooooonnnrrrrrmmmddcaaaaacccc',\n",
       " 'abccccccccccccccccccccccccccccccccccccccaaaaccccccccaaaaacccccccccccccccccccccccccaaaccccccccaacccccccccccccccaaaaaccccccccccccffffoooooonnnnnnrnnmmmdddaaaaacccc',\n",
       " 'abcccccccccccccccccccccccccccccccccccccccccccccccccaaaaaacccccccccccccccccaaaaaccaaaacccccccccccccccccccccccccaacccccccccccccccfffffffffeeeennnnnnmmdddaaaacccccc',\n",
       " 'abcccccccaaaccccccccaccccccccccccccccccccccccccccccaaaaccccccccccccaaaccccaaaaaccaaaaccccccccccccccccccccccccccccccccccccccccccccfffffffeeeeennnnnmddddaaaaaccccc',\n",
       " 'abcccaaccaaacccccaaaacccccaacccccccccccccccccccccccccaaacccccccccccaaacccaaaaaacccaaaccccccccccccccccccccccccccccccccccccccccccccccffffeeeeeeeedddddddcccaacccccc',\n",
       " 'abcccaaaaaaacccccaaaaaaccaaacccccccccccccccccccccccccccacccccccccccaaaaccaaaaaaccccccccccccccccccccccccccaacccccccccaaaccccccccccccccaaaaaaeeeeedddddcccccccccccc',\n",
       " 'abcccaaaaaacccccccaaaacccaaacaaaccccaaaacccccccccaaacaaaccccccaacccaaaacaaaaaaacccccccccccccccccccccccccaaaccccccccaaaacccccccccccccccccccaaaaeeddddccccccccccccc',\n",
       " 'abccccaaaaaaaacccaaaaaaaaaaaaaaaccccaaaacccccccccaaaaaaacccccaaacccaaaaaaaaaacccccccccccccccccccccccaaacaaaccccccccaaaaccccccccccccccccccccaaaccccccccccccccaaaca',\n",
       " 'abcccaaaaaaaaacccaacaaaaaaaaaaacccccaaaaccccccccccaaaaaacaaacaaacaaaaaaaaaacccccccccccccccaaacccccccaaaaaaaaaaccccccaaaccccccccccccccccccccaacccccccccccccccaaaaa',\n",
       " 'abcccaaaaaaaacccccccccccaaaaaacccccccaacccccccccccaaaaaaaaaaaaaaaaaaaaaaaaccccccccccccccccaaaacccccccaaaaaaaaacccccccccccccccccccccccccccccaaacccccccccccccccaaaa',\n",
       " 'abccaaaaaaacccccccccccccaaaaaaacccccccccccccccccaaaaaaaaaaaaaaaaaaaaaaaaaaacccccccccccccccaaaacccccccaaaaaaaacccccccccccccccccccccccccccccccccccccccccccccccaaaaa']"
      ]
     },
     "execution_count": 89,
     "metadata": {},
     "output_type": "execute_result"
    }
   ],
   "source": [
    "def readMap(file_name):\n",
    "    data_map = []\n",
    "    f = open(file_name, \"r\")\n",
    "    while True:\n",
    "        line = f.readline()\n",
    "        if not line:\n",
    "            break\n",
    "        data_map.append(line.strip())\n",
    "    f.close()\n",
    "    return data_map\n",
    "heightmap = readMap(\"data/input12.txt\")\n",
    "heightmap"
   ]
  },
  {
   "cell_type": "code",
   "execution_count": 99,
   "id": "dab12961",
   "metadata": {},
   "outputs": [],
   "source": [
    "from random import sample\n",
    "\n",
    "def _isInBounds(pos):\n",
    "    x, y = pos\n",
    "    num_rows = len(heightmap)\n",
    "    num_cols = len(heightmap[0])\n",
    "    return 0 <= x < num_rows and 0 <= y < num_cols\n",
    "\n",
    "def _getNeighbors(pos_c):\n",
    "    x, y = pos_c\n",
    "    neighbors = [\n",
    "        (x-1, y),\n",
    "        (x+1, y),\n",
    "        (x, y-1),\n",
    "        (x, y+1),\n",
    "    ]\n",
    "    neighbors = [n for n in neighbors if _isInBounds(n) and (_getElevation(n)-_getElevation(pos_c)<=1)]\n",
    "    return neighbors\n",
    "\n",
    "def _getElevation(pos):\n",
    "    x, y = pos\n",
    "    letter = heightmap[x][y]\n",
    "    if letter == 'S':\n",
    "        letter = 'a'\n",
    "    elif letter == 'E':\n",
    "        letter = 'z'\n",
    "    elevation = ord(letter) - ord('a')\n",
    "    return elevation\n",
    "\n",
    "def _getOptimalNeighbors(neighbors):\n",
    "    elevations = [_getElevation(n) for n in neighbors]\n",
    "    highest_elevation = max(elevations)\n",
    "    ops_neighbors = [n for n in neighbors if _getElevation(n) == highest_elevation]\n",
    "    return ops_neighbors\n",
    "\n",
    "def findShortestPath(pos_s, pos_e):\n",
    "    pos_c = pos_s\n",
    "    path = []\n",
    "    iter_c = 0\n",
    "    while pos_c != pos_e and iter_c < 6000:\n",
    "        neighbors = _getNeighbors(pos_c)\n",
    "        if pos_e in neighbors:\n",
    "            path.append(pos_e)\n",
    "            return path\n",
    "        pos_ops = _getOptimalNeighbors(neighbors)\n",
    "        if len(pos_ops) > 1:\n",
    "            pos_c = sample(pos_ops, 1)[0]\n",
    "        else:\n",
    "            pos_c = pos_ops[0]\n",
    "        path.append(pos_c)\n",
    "        iter_c += 1\n",
    "    if pos_c != pos_e:\n",
    "        #print('Failed to find')\n",
    "        return None\n",
    "    return path\n",
    "def getStartEndpos():\n",
    "    pos_s = None\n",
    "    pos_e = None\n",
    "    for i in range(len(heightmap)):\n",
    "        for j in range(len(heightmap[0])):\n",
    "            if heightmap[i][j] == 'S':\n",
    "                pos_s = (i,j)\n",
    "            if heightmap[i][j] == 'E':\n",
    "                pos_e = (i,j)\n",
    "    return pos_s, pos_e"
   ]
  },
  {
   "cell_type": "code",
   "execution_count": null,
   "id": "0aa5f1b3",
   "metadata": {
    "scrolled": true
   },
   "outputs": [],
   "source": [
    "shortest_steps = len(heightmap)*len(heightmap[0])\n",
    "shortest_path = None\n",
    "pos_s,pos_e = getStartEndpos()\n",
    "for i in range(10000):\n",
    "    path = findShortestPath(pos_s,pos_e)\n",
    "    if path != None and len(path) < shortest_steps:\n",
    "        shortest_steps = len(path)\n",
    "        shortest_path = path\n",
    "shortest_steps"
   ]
  },
  {
   "cell_type": "markdown",
   "id": "3ba1e959",
   "metadata": {},
   "source": [
    "#### Day 11.2\n",
    "\n",
    "Now your worry levels are **no longer** divided by 3 after each item is inspected. Figure out **another way** to avoid overflow.\n",
    "\n",
    "Starting again from the initial state in your puzzle input, what is the level of monkey business after **10000** rounds?"
   ]
  },
  {
   "cell_type": "code",
   "execution_count": null,
   "id": "84738975",
   "metadata": {},
   "outputs": [],
   "source": []
  }
 ],
 "metadata": {
  "kernelspec": {
   "display_name": "Python 3 (ipykernel)",
   "language": "python",
   "name": "python3"
  },
  "language_info": {
   "codemirror_mode": {
    "name": "ipython",
    "version": 3
   },
   "file_extension": ".py",
   "mimetype": "text/x-python",
   "name": "python",
   "nbconvert_exporter": "python",
   "pygments_lexer": "ipython3",
   "version": "3.7.11"
  }
 },
 "nbformat": 4,
 "nbformat_minor": 5
}
